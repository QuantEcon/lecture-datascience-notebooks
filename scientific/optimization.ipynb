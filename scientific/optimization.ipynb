version https://git-lfs.github.com/spec/v1
oid sha256:dabf7a32aa9ae9e9726413d2f96bf97b882f0f138058be68588071737f110088
size 147226
