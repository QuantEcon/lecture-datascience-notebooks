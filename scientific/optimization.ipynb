version https://git-lfs.github.com/spec/v1
oid sha256:51e3a4291732918ea7c55ce1398dfd2c495f1f677c37d5179315d3e8870b8e19
size 18947
