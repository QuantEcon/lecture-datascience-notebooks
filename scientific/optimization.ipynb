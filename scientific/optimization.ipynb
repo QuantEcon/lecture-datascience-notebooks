version https://git-lfs.github.com/spec/v1
oid sha256:c748c126cacf1abd597cc722939e7fa4859c8867fa3ce2bda474eaf51b1f77eb
size 16609
