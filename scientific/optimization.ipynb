version https://git-lfs.github.com/spec/v1
oid sha256:e083c3e5494c833982dc367940b3724c671bcb48831d7023b8360b516f884fa6
size 147226
