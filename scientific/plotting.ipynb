version https://git-lfs.github.com/spec/v1
oid sha256:59a18fcda6ff50a4d8e075d6617ed022d047fca0c649fd2d6b2b4bb38c665adf
size 104568
