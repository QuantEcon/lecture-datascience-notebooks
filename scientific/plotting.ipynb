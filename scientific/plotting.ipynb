version https://git-lfs.github.com/spec/v1
oid sha256:398d7918610a7a2dc8eeb5687a0f62fb910479bf261136c6e0d3c6a3a8e04725
size 8804
