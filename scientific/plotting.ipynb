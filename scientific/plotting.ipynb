version https://git-lfs.github.com/spec/v1
oid sha256:f86d9fbb0ef53ca25ccd5778b023db6fc6fc9cf5b22ffa60a2e0eccad5c9bb43
size 104567
