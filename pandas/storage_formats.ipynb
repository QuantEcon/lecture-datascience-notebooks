version https://git-lfs.github.com/spec/v1
oid sha256:cb0051ea35e827b7db11112a643dc17196f859e49c06603d7bad002999a3bb0a
size 20088
