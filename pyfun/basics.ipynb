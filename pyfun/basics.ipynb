version https://git-lfs.github.com/spec/v1
oid sha256:dbe91749bb49d1f69f86dbffacdabdb3a159abbd048d18898281f1b3129895b3
size 42112
